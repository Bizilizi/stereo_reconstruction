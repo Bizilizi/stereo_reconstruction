{
  "nbformat": 4,
  "nbformat_minor": 0,
  "metadata": {
    "colab": {
      "name": "Perceptual_window_search.ipynb",
      "provenance": [],
      "collapsed_sections": [],
      "machine_shape": "hm"
    },
    "kernelspec": {
      "name": "python3",
      "display_name": "Python 3"
    },
    "language_info": {
      "name": "python"
    },
    "accelerator": "GPU",
    "widgets": {
      "application/vnd.jupyter.widget-state+json": {
        "bd0a142396fb413face7a77c15f21a77": {
          "model_module": "@jupyter-widgets/controls",
          "model_name": "HBoxModel",
          "state": {
            "_view_name": "HBoxView",
            "_dom_classes": [],
            "_model_name": "HBoxModel",
            "_view_module": "@jupyter-widgets/controls",
            "_model_module_version": "1.5.0",
            "_view_count": null,
            "_view_module_version": "1.5.0",
            "box_style": "",
            "layout": "IPY_MODEL_35a99139dc0843bc856819d2414224bb",
            "_model_module": "@jupyter-widgets/controls",
            "children": [
              "IPY_MODEL_25cfd847e58f43058f71afb59c4e3f67",
              "IPY_MODEL_5c5cc50bb6734db88ee67c1111c299b4"
            ]
          }
        },
        "35a99139dc0843bc856819d2414224bb": {
          "model_module": "@jupyter-widgets/base",
          "model_name": "LayoutModel",
          "state": {
            "_view_name": "LayoutView",
            "grid_template_rows": null,
            "right": null,
            "justify_content": null,
            "_view_module": "@jupyter-widgets/base",
            "overflow": null,
            "_model_module_version": "1.2.0",
            "_view_count": null,
            "flex_flow": null,
            "width": null,
            "min_width": null,
            "border": null,
            "align_items": null,
            "bottom": null,
            "_model_module": "@jupyter-widgets/base",
            "top": null,
            "grid_column": null,
            "overflow_y": null,
            "overflow_x": null,
            "grid_auto_flow": null,
            "grid_area": null,
            "grid_template_columns": null,
            "flex": null,
            "_model_name": "LayoutModel",
            "justify_items": null,
            "grid_row": null,
            "max_height": null,
            "align_content": null,
            "visibility": null,
            "align_self": null,
            "height": null,
            "min_height": null,
            "padding": null,
            "grid_auto_rows": null,
            "grid_gap": null,
            "max_width": null,
            "order": null,
            "_view_module_version": "1.2.0",
            "grid_template_areas": null,
            "object_position": null,
            "object_fit": null,
            "grid_auto_columns": null,
            "margin": null,
            "display": null,
            "left": null
          }
        },
        "25cfd847e58f43058f71afb59c4e3f67": {
          "model_module": "@jupyter-widgets/controls",
          "model_name": "FloatProgressModel",
          "state": {
            "_view_name": "ProgressView",
            "style": "IPY_MODEL_cfe251f3a93945dc8ddc623ce47283e4",
            "_dom_classes": [],
            "description": "100%",
            "_model_name": "FloatProgressModel",
            "bar_style": "success",
            "max": 553433881,
            "_view_module": "@jupyter-widgets/controls",
            "_model_module_version": "1.5.0",
            "value": 553433881,
            "_view_count": null,
            "_view_module_version": "1.5.0",
            "orientation": "horizontal",
            "min": 0,
            "description_tooltip": null,
            "_model_module": "@jupyter-widgets/controls",
            "layout": "IPY_MODEL_d1f8ecefa35a4c05b498a56d9a0fd43d"
          }
        },
        "5c5cc50bb6734db88ee67c1111c299b4": {
          "model_module": "@jupyter-widgets/controls",
          "model_name": "HTMLModel",
          "state": {
            "_view_name": "HTMLView",
            "style": "IPY_MODEL_36c9f34828d9447a978af186e54e1a8c",
            "_dom_classes": [],
            "description": "",
            "_model_name": "HTMLModel",
            "placeholder": "​",
            "_view_module": "@jupyter-widgets/controls",
            "_model_module_version": "1.5.0",
            "value": " 528M/528M [00:16&lt;00:00, 33.8MB/s]",
            "_view_count": null,
            "_view_module_version": "1.5.0",
            "description_tooltip": null,
            "_model_module": "@jupyter-widgets/controls",
            "layout": "IPY_MODEL_984653519b5c44fd9d8003028370dca8"
          }
        },
        "cfe251f3a93945dc8ddc623ce47283e4": {
          "model_module": "@jupyter-widgets/controls",
          "model_name": "ProgressStyleModel",
          "state": {
            "_view_name": "StyleView",
            "_model_name": "ProgressStyleModel",
            "description_width": "initial",
            "_view_module": "@jupyter-widgets/base",
            "_model_module_version": "1.5.0",
            "_view_count": null,
            "_view_module_version": "1.2.0",
            "bar_color": null,
            "_model_module": "@jupyter-widgets/controls"
          }
        },
        "d1f8ecefa35a4c05b498a56d9a0fd43d": {
          "model_module": "@jupyter-widgets/base",
          "model_name": "LayoutModel",
          "state": {
            "_view_name": "LayoutView",
            "grid_template_rows": null,
            "right": null,
            "justify_content": null,
            "_view_module": "@jupyter-widgets/base",
            "overflow": null,
            "_model_module_version": "1.2.0",
            "_view_count": null,
            "flex_flow": null,
            "width": null,
            "min_width": null,
            "border": null,
            "align_items": null,
            "bottom": null,
            "_model_module": "@jupyter-widgets/base",
            "top": null,
            "grid_column": null,
            "overflow_y": null,
            "overflow_x": null,
            "grid_auto_flow": null,
            "grid_area": null,
            "grid_template_columns": null,
            "flex": null,
            "_model_name": "LayoutModel",
            "justify_items": null,
            "grid_row": null,
            "max_height": null,
            "align_content": null,
            "visibility": null,
            "align_self": null,
            "height": null,
            "min_height": null,
            "padding": null,
            "grid_auto_rows": null,
            "grid_gap": null,
            "max_width": null,
            "order": null,
            "_view_module_version": "1.2.0",
            "grid_template_areas": null,
            "object_position": null,
            "object_fit": null,
            "grid_auto_columns": null,
            "margin": null,
            "display": null,
            "left": null
          }
        },
        "36c9f34828d9447a978af186e54e1a8c": {
          "model_module": "@jupyter-widgets/controls",
          "model_name": "DescriptionStyleModel",
          "state": {
            "_view_name": "StyleView",
            "_model_name": "DescriptionStyleModel",
            "description_width": "",
            "_view_module": "@jupyter-widgets/base",
            "_model_module_version": "1.5.0",
            "_view_count": null,
            "_view_module_version": "1.2.0",
            "_model_module": "@jupyter-widgets/controls"
          }
        },
        "984653519b5c44fd9d8003028370dca8": {
          "model_module": "@jupyter-widgets/base",
          "model_name": "LayoutModel",
          "state": {
            "_view_name": "LayoutView",
            "grid_template_rows": null,
            "right": null,
            "justify_content": null,
            "_view_module": "@jupyter-widgets/base",
            "overflow": null,
            "_model_module_version": "1.2.0",
            "_view_count": null,
            "flex_flow": null,
            "width": null,
            "min_width": null,
            "border": null,
            "align_items": null,
            "bottom": null,
            "_model_module": "@jupyter-widgets/base",
            "top": null,
            "grid_column": null,
            "overflow_y": null,
            "overflow_x": null,
            "grid_auto_flow": null,
            "grid_area": null,
            "grid_template_columns": null,
            "flex": null,
            "_model_name": "LayoutModel",
            "justify_items": null,
            "grid_row": null,
            "max_height": null,
            "align_content": null,
            "visibility": null,
            "align_self": null,
            "height": null,
            "min_height": null,
            "padding": null,
            "grid_auto_rows": null,
            "grid_gap": null,
            "max_width": null,
            "order": null,
            "_view_module_version": "1.2.0",
            "grid_template_areas": null,
            "object_position": null,
            "object_fit": null,
            "grid_auto_columns": null,
            "margin": null,
            "display": null,
            "left": null
          }
        },
        "559f4f0bb576493d8ecf48443dd192fb": {
          "model_module": "@jupyter-widgets/controls",
          "model_name": "HBoxModel",
          "state": {
            "_view_name": "HBoxView",
            "_dom_classes": [],
            "_model_name": "HBoxModel",
            "_view_module": "@jupyter-widgets/controls",
            "_model_module_version": "1.5.0",
            "_view_count": null,
            "_view_module_version": "1.5.0",
            "box_style": "",
            "layout": "IPY_MODEL_66dd483984a34666acca04dc2c3ad87c",
            "_model_module": "@jupyter-widgets/controls",
            "children": [
              "IPY_MODEL_7247fcaa7fff4700acdb6bc3a9a29939",
              "IPY_MODEL_45b23deb57a5477a8bf767ca95eb6cad"
            ]
          }
        },
        "66dd483984a34666acca04dc2c3ad87c": {
          "model_module": "@jupyter-widgets/base",
          "model_name": "LayoutModel",
          "state": {
            "_view_name": "LayoutView",
            "grid_template_rows": null,
            "right": null,
            "justify_content": null,
            "_view_module": "@jupyter-widgets/base",
            "overflow": null,
            "_model_module_version": "1.2.0",
            "_view_count": null,
            "flex_flow": null,
            "width": null,
            "min_width": null,
            "border": null,
            "align_items": null,
            "bottom": null,
            "_model_module": "@jupyter-widgets/base",
            "top": null,
            "grid_column": null,
            "overflow_y": null,
            "overflow_x": null,
            "grid_auto_flow": null,
            "grid_area": null,
            "grid_template_columns": null,
            "flex": null,
            "_model_name": "LayoutModel",
            "justify_items": null,
            "grid_row": null,
            "max_height": null,
            "align_content": null,
            "visibility": null,
            "align_self": null,
            "height": null,
            "min_height": null,
            "padding": null,
            "grid_auto_rows": null,
            "grid_gap": null,
            "max_width": null,
            "order": null,
            "_view_module_version": "1.2.0",
            "grid_template_areas": null,
            "object_position": null,
            "object_fit": null,
            "grid_auto_columns": null,
            "margin": null,
            "display": null,
            "left": null
          }
        },
        "7247fcaa7fff4700acdb6bc3a9a29939": {
          "model_module": "@jupyter-widgets/controls",
          "model_name": "FloatProgressModel",
          "state": {
            "_view_name": "ProgressView",
            "style": "IPY_MODEL_3aaa957230724b35b7bfd3e9cde3327e",
            "_dom_classes": [],
            "description": "100%",
            "_model_name": "FloatProgressModel",
            "bar_style": "success",
            "max": 994,
            "_view_module": "@jupyter-widgets/controls",
            "_model_module_version": "1.5.0",
            "value": 994,
            "_view_count": null,
            "_view_module_version": "1.5.0",
            "orientation": "horizontal",
            "min": 0,
            "description_tooltip": null,
            "_model_module": "@jupyter-widgets/controls",
            "layout": "IPY_MODEL_a9bd76cf34214c83832418d1ba1f88d3"
          }
        },
        "45b23deb57a5477a8bf767ca95eb6cad": {
          "model_module": "@jupyter-widgets/controls",
          "model_name": "HTMLModel",
          "state": {
            "_view_name": "HTMLView",
            "style": "IPY_MODEL_382506a97fc04d95b87223a0e7af4c8e",
            "_dom_classes": [],
            "description": "",
            "_model_name": "HTMLModel",
            "placeholder": "​",
            "_view_module": "@jupyter-widgets/controls",
            "_model_module_version": "1.5.0",
            "value": " 994/994 [1:06:49&lt;00:00,  4.03s/it]",
            "_view_count": null,
            "_view_module_version": "1.5.0",
            "description_tooltip": null,
            "_model_module": "@jupyter-widgets/controls",
            "layout": "IPY_MODEL_98db1cfe8d6c461187f2586ff5180a2d"
          }
        },
        "3aaa957230724b35b7bfd3e9cde3327e": {
          "model_module": "@jupyter-widgets/controls",
          "model_name": "ProgressStyleModel",
          "state": {
            "_view_name": "StyleView",
            "_model_name": "ProgressStyleModel",
            "description_width": "initial",
            "_view_module": "@jupyter-widgets/base",
            "_model_module_version": "1.5.0",
            "_view_count": null,
            "_view_module_version": "1.2.0",
            "bar_color": null,
            "_model_module": "@jupyter-widgets/controls"
          }
        },
        "a9bd76cf34214c83832418d1ba1f88d3": {
          "model_module": "@jupyter-widgets/base",
          "model_name": "LayoutModel",
          "state": {
            "_view_name": "LayoutView",
            "grid_template_rows": null,
            "right": null,
            "justify_content": null,
            "_view_module": "@jupyter-widgets/base",
            "overflow": null,
            "_model_module_version": "1.2.0",
            "_view_count": null,
            "flex_flow": null,
            "width": null,
            "min_width": null,
            "border": null,
            "align_items": null,
            "bottom": null,
            "_model_module": "@jupyter-widgets/base",
            "top": null,
            "grid_column": null,
            "overflow_y": null,
            "overflow_x": null,
            "grid_auto_flow": null,
            "grid_area": null,
            "grid_template_columns": null,
            "flex": null,
            "_model_name": "LayoutModel",
            "justify_items": null,
            "grid_row": null,
            "max_height": null,
            "align_content": null,
            "visibility": null,
            "align_self": null,
            "height": null,
            "min_height": null,
            "padding": null,
            "grid_auto_rows": null,
            "grid_gap": null,
            "max_width": null,
            "order": null,
            "_view_module_version": "1.2.0",
            "grid_template_areas": null,
            "object_position": null,
            "object_fit": null,
            "grid_auto_columns": null,
            "margin": null,
            "display": null,
            "left": null
          }
        },
        "382506a97fc04d95b87223a0e7af4c8e": {
          "model_module": "@jupyter-widgets/controls",
          "model_name": "DescriptionStyleModel",
          "state": {
            "_view_name": "StyleView",
            "_model_name": "DescriptionStyleModel",
            "description_width": "",
            "_view_module": "@jupyter-widgets/base",
            "_model_module_version": "1.5.0",
            "_view_count": null,
            "_view_module_version": "1.2.0",
            "_model_module": "@jupyter-widgets/controls"
          }
        },
        "98db1cfe8d6c461187f2586ff5180a2d": {
          "model_module": "@jupyter-widgets/base",
          "model_name": "LayoutModel",
          "state": {
            "_view_name": "LayoutView",
            "grid_template_rows": null,
            "right": null,
            "justify_content": null,
            "_view_module": "@jupyter-widgets/base",
            "overflow": null,
            "_model_module_version": "1.2.0",
            "_view_count": null,
            "flex_flow": null,
            "width": null,
            "min_width": null,
            "border": null,
            "align_items": null,
            "bottom": null,
            "_model_module": "@jupyter-widgets/base",
            "top": null,
            "grid_column": null,
            "overflow_y": null,
            "overflow_x": null,
            "grid_auto_flow": null,
            "grid_area": null,
            "grid_template_columns": null,
            "flex": null,
            "_model_name": "LayoutModel",
            "justify_items": null,
            "grid_row": null,
            "max_height": null,
            "align_content": null,
            "visibility": null,
            "align_self": null,
            "height": null,
            "min_height": null,
            "padding": null,
            "grid_auto_rows": null,
            "grid_gap": null,
            "max_width": null,
            "order": null,
            "_view_module_version": "1.2.0",
            "grid_template_areas": null,
            "object_position": null,
            "object_fit": null,
            "grid_auto_columns": null,
            "margin": null,
            "display": null,
            "left": null
          }
        }
      }
    }
  },
  "cells": [
    {
      "cell_type": "code",
      "metadata": {
        "colab": {
          "base_uri": "https://localhost:8080/"
        },
        "id": "SBJRIa8cU8Yh",
        "outputId": "669d519a-160e-4436-9841-7f43154309ae"
      },
      "source": [
        "!pip install lpips"
      ],
      "execution_count": null,
      "outputs": [
        {
          "output_type": "stream",
          "text": [
            "Collecting lpips\n",
            "  Downloading lpips-0.1.3-py3-none-any.whl (53 kB)\n",
            "\u001b[?25l\r\u001b[K     |██████                          | 10 kB 25.5 MB/s eta 0:00:01\r\u001b[K     |████████████▏                   | 20 kB 9.6 MB/s eta 0:00:01\r\u001b[K     |██████████████████▎             | 30 kB 8.3 MB/s eta 0:00:01\r\u001b[K     |████████████████████████▍       | 40 kB 7.5 MB/s eta 0:00:01\r\u001b[K     |██████████████████████████████▌ | 51 kB 4.0 MB/s eta 0:00:01\r\u001b[K     |████████████████████████████████| 53 kB 1.6 MB/s \n",
            "\u001b[?25hInstalling collected packages: lpips\n",
            "Successfully installed lpips-0.1.3\n"
          ],
          "name": "stdout"
        }
      ]
    },
    {
      "cell_type": "code",
      "metadata": {
        "id": "TW3Z4EHwT_3m"
      },
      "source": [
        "import numpy as np\n",
        "import cv2\n",
        "import matplotlib.pyplot as plt"
      ],
      "execution_count": null,
      "outputs": []
    },
    {
      "cell_type": "markdown",
      "metadata": {
        "id": "SLsFBiwXkBr1"
      },
      "source": [
        "### Reading rectified left and right images from files"
      ]
    },
    {
      "cell_type": "code",
      "metadata": {
        "id": "fpQDs_IOUx-m"
      },
      "source": [
        "left_img = cv2.imread('im0.png')\n",
        "left_img = np.moveaxis(left_img, -1, 0)\n",
        "\n",
        "right_img = cv2.imread('im1.png')\n",
        "right_img = np.moveaxis(right_img, -1, 0)"
      ],
      "execution_count": null,
      "outputs": []
    },
    {
      "cell_type": "code",
      "metadata": {
        "colab": {
          "base_uri": "https://localhost:8080/"
        },
        "id": "vXKF5dRg91fg",
        "outputId": "f8daacd8-c45a-47a9-8945-af139a8337f4"
      },
      "source": [
        "left_img.shape, right_img.shape"
      ],
      "execution_count": null,
      "outputs": [
        {
          "output_type": "execute_result",
          "data": {
            "text/plain": [
              "((3, 994, 1482), (3, 994, 1482))"
            ]
          },
          "metadata": {
            "tags": []
          },
          "execution_count": 4
        }
      ]
    },
    {
      "cell_type": "markdown",
      "metadata": {
        "id": "dCVQuX6JkM54"
      },
      "source": [
        "### Cut image on fixed size windows with `functional.unfold` operation"
      ]
    },
    {
      "cell_type": "code",
      "metadata": {
        "colab": {
          "base_uri": "https://localhost:8080/",
          "height": 137,
          "referenced_widgets": [
            "bd0a142396fb413face7a77c15f21a77",
            "35a99139dc0843bc856819d2414224bb",
            "25cfd847e58f43058f71afb59c4e3f67",
            "5c5cc50bb6734db88ee67c1111c299b4",
            "cfe251f3a93945dc8ddc623ce47283e4",
            "d1f8ecefa35a4c05b498a56d9a0fd43d",
            "36c9f34828d9447a978af186e54e1a8c",
            "984653519b5c44fd9d8003028370dca8"
          ]
        },
        "id": "nS8Qy3mJVJ7b",
        "outputId": "5a2a877f-d902-4bb0-bf45-9a84888891a5"
      },
      "source": [
        "import lpips\n",
        "import torch\n",
        "from torch.nn import functional as f\n",
        "\n",
        "# prepare variables for window search\n",
        "device = torch.device('cuda') if torch.cuda.is_available() else torch.device('cpu')\n",
        "loss_fn_vgg = lpips.LPIPS(net='vgg').to(device)\n",
        "window_size = 17\n",
        "padding = 8\n",
        "max_disparity = 200\n",
        "\n",
        "# Compute all possible windows for left image\n",
        "all_left_windows = f.unfold(\n",
        "        torch.tensor(left_img, dtype=torch.float)[None,:], \n",
        "        kernel_size=window_size, \n",
        "        padding=padding,)\\\n",
        "    .to(device)\\\n",
        "    .squeeze()\\\n",
        "    .view(3, window_size, window_size, -1)\\\n",
        "    .permute(3, 0, 1, 2)\n",
        "\n",
        "# Compute all possible windows for right image\n",
        "all_right_windows = f.unfold(\n",
        "        torch.tensor(right_img, dtype=torch.float)[None,:], \n",
        "        kernel_size=window_size, \n",
        "        padding=padding,)\\\n",
        "    .to(device)\\\n",
        "    .squeeze()\\\n",
        "    .view(3, window_size, window_size, -1)\\\n",
        "    .permute(3, 0, 1, 2)"
      ],
      "execution_count": null,
      "outputs": [
        {
          "output_type": "stream",
          "text": [
            "Setting up [LPIPS] perceptual loss: trunk [vgg], v[0.1], spatial [off]\n"
          ],
          "name": "stdout"
        },
        {
          "output_type": "stream",
          "text": [
            "Downloading: \"https://download.pytorch.org/models/vgg16-397923af.pth\" to /root/.cache/torch/hub/checkpoints/vgg16-397923af.pth\n"
          ],
          "name": "stderr"
        },
        {
          "output_type": "display_data",
          "data": {
            "application/vnd.jupyter.widget-view+json": {
              "model_id": "bd0a142396fb413face7a77c15f21a77",
              "version_minor": 0,
              "version_major": 2
            },
            "text/plain": [
              "HBox(children=(FloatProgress(value=0.0, max=553433881.0), HTML(value='')))"
            ]
          },
          "metadata": {
            "tags": []
          }
        },
        {
          "output_type": "stream",
          "text": [
            "\n",
            "Loading model from: /usr/local/lib/python3.7/dist-packages/lpips/weights/v0.1/vgg.pth\n"
          ],
          "name": "stdout"
        }
      ]
    },
    {
      "cell_type": "code",
      "metadata": {
        "colab": {
          "base_uri": "https://localhost:8080/"
        },
        "id": "8TFrCIsh5spf",
        "outputId": "e3ab4ceb-03b5-4999-a14c-7eab2348e184"
      },
      "source": [
        "print(f\"\"\"Tensor of all windows have shape: N x C x H x W\n",
        "all_right_windows: {all_right_windows.shape}\n",
        "all_left_windows : {all_left_windows.shape}\"\"\")"
      ],
      "execution_count": null,
      "outputs": [
        {
          "output_type": "stream",
          "text": [
            "Tensor of all windows have shape: N x C x H x W\n",
            "all_right_windows: torch.Size([1473108, 3, 17, 17])\n",
            "all_left_windows : torch.Size([1473108, 3, 17, 17])\n"
          ],
          "name": "stdout"
        }
      ]
    },
    {
      "cell_type": "code",
      "metadata": {
        "id": "EEq3ZfEWRg5N"
      },
      "source": [
        "from tqdm.notebook import trange, tqdm\n",
        "\n",
        "def spatial_average(in_tens, keepdim=True):\n",
        "    return in_tens.mean([2,3], keepdim=keepdim)\n",
        "\n",
        "def upsample(in_tens, out_HW=(64,64)): # assumes scale factor is same for H and W\n",
        "    in_H, in_W = in_tens.shape[2], in_tens.shape[3]\n",
        "    return nn.Upsample(size=out_HW, mode='bilinear', align_corners=False)(in_tens)\n",
        "\n",
        "def compute_embeddings(windows, loss_model):\n",
        "    \"\"\"\n",
        "    Computes activations from multiple layers \n",
        "    of encoder model e.g. vgg or alex net\n",
        "\n",
        "    @params: windows - List of patches to be processed\n",
        "    @params: loss_model - Perceptuall loss model from pipl library\n",
        "    @returns: Activations from multiple layers \n",
        "    \"\"\"\n",
        "    input = loss_model.scaling_layer(windows)\\\n",
        "                if loss_model.version=='0.1'\\\n",
        "                else windows\n",
        "    out  = loss_model.net.forward(input)\n",
        "\n",
        "    return out\n",
        "\n",
        "def compute_distance(left_emb, right_emb, loss_model):\n",
        "    \"\"\"\n",
        "    This method applies pretraned convolution layers from pipl library\n",
        "\n",
        "    @params: left_emb  - Activations for left pathes\n",
        "    @params: right_emb - Activations for right pathes\n",
        "    @params: loss_model - Perceptuall loss model from pipl library\n",
        "    \"\"\"\n",
        "    diffs = []\n",
        "    for kk in range(loss_model.L):\n",
        "        feats0, feats1 = lpips.normalize_tensor(left_emb[kk]), lpips.normalize_tensor(right_emb[kk])\n",
        "        diffs.append((feats0-feats1)**2)\n",
        "\n",
        "    if loss_model.lpips :\n",
        "        if loss_model.spatial:\n",
        "            res = [upsample(loss_model.lins[kk].model(diffs[kk]), out_HW=in0.shape[2:]) for kk in range(loss_model.L)]\n",
        "        else:\n",
        "            res = [spatial_average(loss_model.lins[kk].model(diffs[kk]), keepdim=True) for kk in range(loss_model.L)]\n",
        "    else:\n",
        "        if loss_model.spatial:\n",
        "            res = [upsample(diffs[kk].sum(dim=1,keepdim=True), out_HW=in0.shape[2:]) for kk in range(loss_model.L)]\n",
        "        else:\n",
        "            res = [spatial_average(diffs[kk].sum(dim=1,keepdim=True), keepdim=True) for kk in range(loss_model.L)]\n",
        "    \n",
        "    return sum(res)\n",
        "\n",
        "def chunks(lst, n):\n",
        "    \"\"\"Yield successive n-sized chunks from lst.\"\"\"\n",
        "    for i in range(0, len(lst), n):\n",
        "        yield lst[i:i + n]\n",
        "\n",
        "def compute_row_embeddings(row_windows, img, loss_model, device, chunk_size=10):\n",
        "    \"\"\"\n",
        "    Computes embeddings for every pathes in specific row of image\n",
        "\n",
        "    @params: row_windows - Patches of row \n",
        "    @params: img - Images\n",
        "    @params: loss_model - Perceptuall loss model from pipl library\n",
        "    @params: device - Torch device e.g. CUDA or CPU\n",
        "    @returns: Row of embeddings\n",
        "    \"\"\"\n",
        "    row_embeddings = []\n",
        "\n",
        "    # create channel tensors for very activation\n",
        "    for channel, size in zip(loss_model.chns, [17, 8, 4, 2, 1]):\n",
        "        channel_tensor = torch.ones(img.shape[2], channel, size, size)\\\n",
        "                            .to(device)\n",
        "        row_embeddings.append(channel_tensor)\n",
        "\n",
        "    # fill channel tensors by processing chunks\n",
        "    for i in range(0, row_windows.shape[0], chunk_size):\n",
        "        activations = compute_embeddings(row_windows[i:i+chunk_size], loss_model)\n",
        "        for c, channel_tensor in enumerate(row_embeddings):\n",
        "            channel_tensor[i:i+len(activations[c])] = activations[c]\n",
        "    \n",
        "    return row_embeddings\n",
        "\n",
        "def slice_windows(windows, img, i, j, size):\n",
        "    \"\"\"\n",
        "    Create a row slice of patches for specific image\n",
        "\n",
        "    @params: windows - List of all patches coresponding to image\n",
        "    @params: img - Image\n",
        "    @params: i - number of row to start slice\n",
        "    @params: j - number of column to start slice\n",
        "    @params: size - size of a slice\n",
        "    @returns: slize of pathes corresponding to i, j params\n",
        "    \"\"\"\n",
        "    shift = i*img.shape[2]\n",
        "    left  = shift + j\n",
        "    right = min(left + size, windows.shape[0])\n",
        "\n",
        "    return windows[left: right]\n",
        "\n",
        "def weight_vector(size, mean_idx, sigma, bias, device):\n",
        "    weights = torch.arange(0, size)\n",
        "    \n",
        "    kernel = torch.exp(-torch.abs(weights - mean_idx)/sigma)\n",
        "    inverted = (1-kernel) + bias\n",
        "\n",
        "    return inverted.to(device)"
      ],
      "execution_count": null,
      "outputs": []
    },
    {
      "cell_type": "markdown",
      "metadata": {
        "id": "UcMqJ40jpJG1"
      },
      "source": [
        "### Perform windows search\n",
        "**Description**  \n",
        "We iterate over every pixel in right image. In every row we compute embeddings/activations of encoder network (vgg) for both left and right image.   \n",
        "Then for every pixel in the row of right image we find the most close point in left image in a same row. Eventually distance in pixel space is saved to disparity map.  \n",
        "\n",
        "**Computation improvements**  \n",
        "To speed up computation we decomposed vgg evaluation and cnn evaluation + the search of the closest point is restricted by `max_disparity` value"
      ]
    },
    {
      "cell_type": "code",
      "metadata": {
        "colab": {
          "base_uri": "https://localhost:8080/",
          "height": 120,
          "referenced_widgets": [
            "559f4f0bb576493d8ecf48443dd192fb",
            "66dd483984a34666acca04dc2c3ad87c",
            "7247fcaa7fff4700acdb6bc3a9a29939",
            "45b23deb57a5477a8bf767ca95eb6cad",
            "3aaa957230724b35b7bfd3e9cde3327e",
            "a9bd76cf34214c83832418d1ba1f88d3",
            "382506a97fc04d95b87223a0e7af4c8e",
            "98db1cfe8d6c461187f2586ff5180a2d"
          ]
        },
        "id": "8Y-6x5py5phM",
        "outputId": "36a09c7f-a91b-45f1-b33e-59df3a54c7a7"
      },
      "source": [
        "from tqdm.notebook import trange, tqdm\n",
        "import time\n",
        "\n",
        "# window search params\n",
        "size_of_chunk = 20\n",
        "disparity_map = torch.zeros(right_img.shape[1:]).float()\n",
        "\n",
        "# reweight params \n",
        "smoothing_bias = 0.85\n",
        "smoothing_sigma = 25\n",
        "\n",
        "for y in trange(right_img.shape[1]):\n",
        "    # geting row embeddings for right image\n",
        "    right_row_windows = slice_windows(all_right_windows, right_img, y, 0, right_img.shape[2])\n",
        "    right_row_embeddings = compute_row_embeddings(right_row_windows, right_img, loss_fn_vgg, device)\n",
        "    # geting row embeddings for right image\n",
        "    left_row_windows = slice_windows(all_left_windows, left_img, y, 0, left_img.shape[2])\n",
        "    left_row_embeddings = compute_row_embeddings(left_row_windows, left_img, loss_fn_vgg, device) \n",
        "\n",
        "    # iterating over embeddigns\n",
        "    iter_list = list(range(right_img.shape[2]))\n",
        "    for x_chunk in chunks(iter_list, size_of_chunk):\n",
        "        # define batch, where every nested list correspond\n",
        "        # to specific channel e.g number of layer in vgg \n",
        "        # from where we took activation\n",
        "        left_batch  = [[],[],[],[],[]]\n",
        "        right_batch = [[],[],[],[],[]]\n",
        "\n",
        "        # since batch sizes might be non equal\n",
        "        # remember them for later use\n",
        "        batch_sizes = []\n",
        "\n",
        "        # collect embeddings for x in chunk\n",
        "        for x in x_chunk:\n",
        "            \n",
        "            # compute postion for rightmost pixel to compare\n",
        "            L = loss_fn_vgg.L\n",
        "            windows_num = left_row_embeddings[0].shape[0]\n",
        "            cut_idx = min(x + max_disparity, windows_num)\n",
        "\n",
        "            # slice corresponding left and right embeddings\n",
        "            left_embeddings  = [left_row_embeddings[c][x: cut_idx, :] for c in range(L)]\n",
        "            right_embeddings = [right_row_embeddings[c][x].expand(len(left_embeddings[0]), -1,-1, -1) for c in range(L)]\n",
        "\n",
        "            # append them to batch for later concatination\n",
        "            for c, (l, r) in enumerate(zip(left_embeddings, right_embeddings)):\n",
        "                left_batch[c].append(l)\n",
        "                right_batch[c].append(r)\n",
        "\n",
        "            # save batch size \n",
        "            batch_sizes.append(len(left_embeddings[0]))\n",
        "        \n",
        "        # concatenate embeddings to one tensor per every channel\n",
        "        for i in range(len(left_batch)):\n",
        "            left_batch[i]  = torch.cat(left_batch[i]).to(device)\n",
        "            right_batch[i] = torch.cat(right_batch[i]).to(device)\n",
        "\n",
        "        # calculate scores for concatinated embeddings\n",
        "        distance_scores = compute_distance(right_batch, left_batch, loss_fn_vgg)\\\n",
        "                            .squeeze()\n",
        "        \n",
        "        # Calculate argmins for batch\n",
        "        cnt = 0\n",
        "        argmins = []\n",
        "        for x, size in zip(x_chunk, batch_sizes):\n",
        "            scores = distance_scores[cnt: cnt+size]\n",
        "            \n",
        "            # reweight scores w.r.t previous line\n",
        "            if y > 0:\n",
        "                neighbour_argmin = disparity_map[y-1, x]\n",
        "                weights = weight_vector(\n",
        "                    size, \n",
        "                    neighbour_argmin, \n",
        "                    smoothing_sigma,\n",
        "                    smoothing_bias,\n",
        "                    device\n",
        "                )\n",
        "                scores *= weights\n",
        "            # reweight scores w.r.t previous pixel\n",
        "            if argmins:\n",
        "                neighbour_argmin = min(argmins[-1], size)\n",
        "                weights = weight_vector(\n",
        "                    size, \n",
        "                    neighbour_argmin, \n",
        "                    smoothing_sigma,\n",
        "                    smoothing_bias,\n",
        "                    device\n",
        "                )\n",
        "                scores *= weights\n",
        "\n",
        "            # add argmin of scores\n",
        "            argmins.append(scores.argmin().cpu())\n",
        "            cnt += size\n",
        "        \n",
        "        # set argmin value to disparity map\n",
        "        for x, argmin in zip(x_chunk, argmins):\n",
        "            disparity_map[y, x] = argmin\n",
        "        \n"
      ],
      "execution_count": null,
      "outputs": [
        {
          "output_type": "display_data",
          "data": {
            "application/vnd.jupyter.widget-view+json": {
              "model_id": "559f4f0bb576493d8ecf48443dd192fb",
              "version_minor": 0,
              "version_major": 2
            },
            "text/plain": [
              "HBox(children=(FloatProgress(value=0.0, max=994.0), HTML(value='')))"
            ]
          },
          "metadata": {
            "tags": []
          }
        },
        {
          "output_type": "stream",
          "text": [
            "/usr/local/lib/python3.7/dist-packages/torch/nn/functional.py:718: UserWarning: Named tensors and all their associated APIs are an experimental feature and subject to change. Please do not use them for anything important until they are released as stable. (Triggered internally at  /pytorch/c10/core/TensorImpl.h:1156.)\n",
            "  return torch.max_pool2d(input, kernel_size, stride, padding, dilation, ceil_mode)\n"
          ],
          "name": "stderr"
        },
        {
          "output_type": "stream",
          "text": [
            "\n"
          ],
          "name": "stdout"
        }
      ]
    },
    {
      "cell_type": "code",
      "metadata": {
        "colab": {
          "base_uri": "https://localhost:8080/",
          "height": 269
        },
        "id": "NbqYrp-2hK5s",
        "outputId": "98bb557f-1b6b-4f20-cf72-149a71c8264e"
      },
      "source": [
        "import matplotlib.pyplot as plt\n",
        "\n",
        "plt.imshow(disparity_map, cmap='gray', vmin=0, vmax=max_disparity)\n",
        "plt.show()"
      ],
      "execution_count": null,
      "outputs": [
        {
          "output_type": "display_data",
          "data": {
            "image/png": "[encoded data removed]",
            "text/plain": [
              "<Figure size 432x288 with 1 Axes>"
            ]
          },
          "metadata": {
            "tags": [],
            "needs_background": "light"
          }
        }
      ]
    },
    {
      "cell_type": "code",
      "metadata": {
        "id": "_7SbjJ8IgDh4"
      },
      "source": [
        "plt.imsave(\"shelves_pipl_disp.png\", disparity_map, cmap='gray', vmin=0, vmax=max_disparity)"
      ],
      "execution_count": null,
      "outputs": []
    },
    {
      "cell_type": "code",
      "metadata": {
        "id": "DUaDDQoI1WVG"
      },
      "source": [
        "import numpy as np\n",
        "\n",
        "np.save(\"disp\", disparity_map.cpu().numpy())"
      ],
      "execution_count": null,
      "outputs": []
    }
  ]
}